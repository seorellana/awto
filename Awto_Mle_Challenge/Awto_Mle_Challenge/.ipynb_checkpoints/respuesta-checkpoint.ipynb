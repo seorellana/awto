{
 "cells": [
  {
   "cell_type": "markdown",
   "id": "754c74b3-0276-4761-9f75-d82303425fa2",
   "metadata": {},
   "source": [
    "# 🤖 Awto ML Engineering Challenge\n",
    "\n",
    "## Setup y Envío\n",
    "\n",
    "- **_Setup_**:\n",
    "  - Cree un repositorio y sientase libre de commitear su trabajo con la frecuencia que le parezca\n",
    "  - Estara usando las siguientes herramientas para resolverlo\n",
    "  - Python 3.8 (& pip)\n",
    "  - Docker\n",
    "  - Cualquier otra libreria que decidas usar\n",
    "\n",
    "\n",
    "- **_Envio_**\n",
    "  - Puede conpartirnos la url del repositorio con su solucion\n",
    "  - Puede comprimir su solucion y enviarnosla por mail\n",
    "\n",
    "Buena Suerte!\n",
    "\n",
    "## Challenge\n",
    "\n",
    "### Part 1: Entrenamiento\n",
    "\n",
    "- En esta parte del challenge usted va a escribir codigo, el objetivo es entrenar y preparar un modelo de machine learning que permita predecir el la enegia producida por una turbina eólica, dado ciertos parametros.\n",
    "\n",
    "- _Dataset_: [Wind Turbine Data](./data/wind_power_generation.csv). Este es un conjunto de  históricos de una turbina eólica. Contiene varias características meteorológicas, de turbinas y de los rotores. Los datos se registraron desde enero de 2018 hasta marzo de 2020. Las lecturas se registraron en un intervalo de 10 minutos.\n",
    "\n",
    "- _Task_:\n",
    "    - [ ] Cree y entrene un modelo de aprendizaje automático para predecir la `potencia activa` (y podemos esperar que se proporcionen otras columnas como características de entrada).\n",
    "    - [ ] Operationalise training\n",
    "    \n",
    "- Sientase libre de usar cualquiera de estas librerias (e.g. `sklearn`, `tensorflow`, `pytorch`, etc...) y cualquiera de los modelos que ofrecen.\n",
    "\n",
    "### Part 2: API\n",
    "\n",
    "- En esta parte, usted va a estar disponibilizando el modelo a traves de una API.\n",
    "\n",
    "- _Tasks_:\n",
    "  - [ ] Construya una API REST que disponibilice su modelo\n",
    "    - Elija su mejor modelo de la anterior parte\n",
    "    - Use herramientas como `flask`, `django`, `fastapi`, etc.\n",
    "  - [ ] Operationalise serving\n",
    "    \n",
    "## Otros\n",
    "- Esperamos un nivel de codigo que pueda ser depslegado. Nos fijamos en cosas como, estructura del repositorio, buenas practicas, tests, depurabilidad , extensibilidad.\n",
    "- Por favor automatice y cree contenedores para algunas o todas las partes de su solucion.  \n",
    "- **Y por favor**, si le surge alguna duda, no dude en consultarnos.\n",
    "\n",
    "\n",
    "## Referencias\n",
    "\n",
    "- [Wind Power Forcasting Dataset from Kaggle](https://www.kaggle.com/theforcecoder/wind-power-forecasting)"
   ]
  },
  {
   "cell_type": "code",
   "execution_count": null,
   "id": "38b32074-f244-484d-83c2-c5ee45d6e460",
   "metadata": {},
   "outputs": [],
   "source": []
  },
  {
   "cell_type": "code",
   "execution_count": null,
   "id": "c50b6b09-9cb1-4ca2-a615-5fb7f54ab8cb",
   "metadata": {},
   "outputs": [],
   "source": []
  },
  {
   "cell_type": "code",
   "execution_count": null,
   "id": "14f40018-8f6e-4d7e-ba63-681cf24bb137",
   "metadata": {},
   "outputs": [],
   "source": []
  },
  {
   "cell_type": "code",
   "execution_count": null,
   "id": "6e84f87e-27d6-41f4-90d6-6923640e79bd",
   "metadata": {},
   "outputs": [],
   "source": []
  },
  {
   "cell_type": "code",
   "execution_count": null,
   "id": "a910acb8-8cd4-402e-a34b-566ca5163b6e",
   "metadata": {},
   "outputs": [],
   "source": []
  },
  {
   "cell_type": "code",
   "execution_count": null,
   "id": "66bd02b3-d6b1-4c88-a13f-3a3d8fa76aa2",
   "metadata": {},
   "outputs": [],
   "source": []
  }
 ],
 "metadata": {
  "kernelspec": {
   "display_name": "Python 3 (ipykernel)",
   "language": "python",
   "name": "python3"
  },
  "language_info": {
   "codemirror_mode": {
    "name": "ipython",
    "version": 3
   },
   "file_extension": ".py",
   "mimetype": "text/x-python",
   "name": "python",
   "nbconvert_exporter": "python",
   "pygments_lexer": "ipython3",
   "version": "3.9.13"
  }
 },
 "nbformat": 4,
 "nbformat_minor": 5
}
